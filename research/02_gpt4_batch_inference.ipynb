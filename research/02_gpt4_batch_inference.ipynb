{
 "cells": [
  {
   "cell_type": "markdown",
   "id": "7e3e1a7a",
   "metadata": {},
   "source": [
    "### Setup\n",
    "Change working directory to avoid path error."
   ]
  },
  {
   "cell_type": "code",
   "execution_count": 2,
   "id": "a65fe582",
   "metadata": {},
   "outputs": [
    {
     "name": "stdout",
     "output_type": "stream",
     "text": [
      "Working directory: /Users/thuang/Documents/Personal/code/microscopy-vlm-lpb25\n"
     ]
    }
   ],
   "source": [
    "import os\n",
    "WORKING_DIR = \"/Users/thuang/Documents/Personal/code/microscopy-vlm-lpb25/\"\n",
    "os.chdir(WORKING_DIR)\n",
    "print(f\"Working directory: {os.getcwd()}\")"
   ]
  },
  {
   "cell_type": "markdown",
   "id": "ae709220",
   "metadata": {},
   "source": [
    "### Prepare Metadata"
   ]
  },
  {
   "cell_type": "code",
   "execution_count": 5,
   "id": "4c628833",
   "metadata": {},
   "outputs": [
    {
     "name": "stdout",
     "output_type": "stream",
     "text": [
      "79\n",
      "['data/marco/gsk/other/1254.jpeg', 'data/marco/gsk/other/1782.jpeg', 'data/marco/gsk/other/1848.jpeg', 'data/marco/gsk/other/1783.jpeg', 'data/marco/gsk/other/1209.jpeg']\n"
     ]
    }
   ],
   "source": [
    "import glob\n",
    "import pandas as pd\n",
    "\n",
    "DATA_ROOT_PATH = \"data/marco\"\n",
    "image_list = glob.glob(os.path.join(DATA_ROOT_PATH, \"**\", \"*.jpeg\"), recursive=True)\n",
    "print(len(image_list))\n",
    "print(image_list[:5])"
   ]
  },
  {
   "cell_type": "code",
   "execution_count": 8,
   "id": "6de3f331",
   "metadata": {},
   "outputs": [
    {
     "name": "stdout",
     "output_type": "stream",
     "text": [
      "['other', 'other', 'other', 'other', 'other']\n",
      "['gsk', 'gsk', 'gsk', 'gsk', 'gsk']\n",
      "['test', 'test', 'test', 'test', 'test']\n"
     ]
    }
   ],
   "source": [
    "gt_labels = [image_directory.split(\"/\")[-2] for image_directory in image_list]\n",
    "print(gt_labels[:5])\n",
    "sources = [image_directory.split(\"/\")[-3] for image_directory in image_list]\n",
    "print(sources[:5])\n",
    "tags = [\"test\"] * len(image_list)\n",
    "print(tags[:5])"
   ]
  },
  {
   "cell_type": "code",
   "execution_count": 10,
   "id": "522bf1c9",
   "metadata": {},
   "outputs": [
    {
     "name": "stdout",
     "output_type": "stream",
     "text": [
      "79\n"
     ]
    },
    {
     "data": {
      "application/vnd.microsoft.datawrangler.viewer.v0+json": {
       "columns": [
        {
         "name": "index",
         "rawType": "object",
         "type": "string"
        },
        {
         "name": "image_dir",
         "rawType": "object",
         "type": "unknown"
        },
        {
         "name": "label",
         "rawType": "object",
         "type": "unknown"
        },
        {
         "name": "source",
         "rawType": "object",
         "type": "unknown"
        },
        {
         "name": "tag",
         "rawType": "object",
         "type": "unknown"
        }
       ],
       "conversionMethod": "pd.DataFrame",
       "ref": "00f56667-8728-4070-bf04-1bafe6ede676",
       "rows": [
        [
         "count",
         "79",
         "79",
         "79",
         "79"
        ],
        [
         "unique",
         "79",
         "4",
         "1",
         "1"
        ],
        [
         "top",
         "data/marco/gsk/other/1254.jpeg",
         "other",
         "gsk",
         "test"
        ],
        [
         "freq",
         "1",
         "20",
         "79",
         "79"
        ]
       ],
       "shape": {
        "columns": 4,
        "rows": 4
       }
      },
      "text/html": [
       "<div>\n",
       "<style scoped>\n",
       "    .dataframe tbody tr th:only-of-type {\n",
       "        vertical-align: middle;\n",
       "    }\n",
       "\n",
       "    .dataframe tbody tr th {\n",
       "        vertical-align: top;\n",
       "    }\n",
       "\n",
       "    .dataframe thead th {\n",
       "        text-align: right;\n",
       "    }\n",
       "</style>\n",
       "<table border=\"1\" class=\"dataframe\">\n",
       "  <thead>\n",
       "    <tr style=\"text-align: right;\">\n",
       "      <th></th>\n",
       "      <th>image_dir</th>\n",
       "      <th>label</th>\n",
       "      <th>source</th>\n",
       "      <th>tag</th>\n",
       "    </tr>\n",
       "  </thead>\n",
       "  <tbody>\n",
       "    <tr>\n",
       "      <th>count</th>\n",
       "      <td>79</td>\n",
       "      <td>79</td>\n",
       "      <td>79</td>\n",
       "      <td>79</td>\n",
       "    </tr>\n",
       "    <tr>\n",
       "      <th>unique</th>\n",
       "      <td>79</td>\n",
       "      <td>4</td>\n",
       "      <td>1</td>\n",
       "      <td>1</td>\n",
       "    </tr>\n",
       "    <tr>\n",
       "      <th>top</th>\n",
       "      <td>data/marco/gsk/other/1254.jpeg</td>\n",
       "      <td>other</td>\n",
       "      <td>gsk</td>\n",
       "      <td>test</td>\n",
       "    </tr>\n",
       "    <tr>\n",
       "      <th>freq</th>\n",
       "      <td>1</td>\n",
       "      <td>20</td>\n",
       "      <td>79</td>\n",
       "      <td>79</td>\n",
       "    </tr>\n",
       "  </tbody>\n",
       "</table>\n",
       "</div>"
      ],
      "text/plain": [
       "                             image_dir  label source   tag\n",
       "count                               79     79     79    79\n",
       "unique                              79      4      1     1\n",
       "top     data/marco/gsk/other/1254.jpeg  other    gsk  test\n",
       "freq                                 1     20     79    79"
      ]
     },
     "execution_count": 10,
     "metadata": {},
     "output_type": "execute_result"
    }
   ],
   "source": [
    "meta_df = pd.DataFrame({\n",
    "    \"image_dir\": image_list,\n",
    "    \"label\": gt_labels,\n",
    "    \"source\": sources,\n",
    "    \"tag\": tags\n",
    "})\n",
    "print(len(meta_df))\n",
    "meta_df.describe()"
   ]
  },
  {
   "cell_type": "code",
   "execution_count": 12,
   "id": "8df61983",
   "metadata": {},
   "outputs": [
    {
     "name": "stdout",
     "output_type": "stream",
     "text": [
      "83\n"
     ]
    },
    {
     "data": {
      "application/vnd.microsoft.datawrangler.viewer.v0+json": {
       "columns": [
        {
         "name": "index",
         "rawType": "object",
         "type": "string"
        },
        {
         "name": "image_dir",
         "rawType": "object",
         "type": "unknown"
        },
        {
         "name": "label",
         "rawType": "object",
         "type": "unknown"
        },
        {
         "name": "source",
         "rawType": "object",
         "type": "unknown"
        },
        {
         "name": "tag",
         "rawType": "object",
         "type": "unknown"
        }
       ],
       "conversionMethod": "pd.DataFrame",
       "ref": "049be6eb-9429-4ded-93e7-cc34ace78ff6",
       "rows": [
        [
         "count",
         "83",
         "83",
         "83",
         "83"
        ],
        [
         "unique",
         "83",
         "4",
         "1",
         "2"
        ],
        [
         "top",
         "data/marco/gsk/other/1254.jpeg",
         "other",
         "gsk",
         "test"
        ],
        [
         "freq",
         "1",
         "21",
         "83",
         "79"
        ]
       ],
       "shape": {
        "columns": 4,
        "rows": 4
       }
      },
      "text/html": [
       "<div>\n",
       "<style scoped>\n",
       "    .dataframe tbody tr th:only-of-type {\n",
       "        vertical-align: middle;\n",
       "    }\n",
       "\n",
       "    .dataframe tbody tr th {\n",
       "        vertical-align: top;\n",
       "    }\n",
       "\n",
       "    .dataframe thead th {\n",
       "        text-align: right;\n",
       "    }\n",
       "</style>\n",
       "<table border=\"1\" class=\"dataframe\">\n",
       "  <thead>\n",
       "    <tr style=\"text-align: right;\">\n",
       "      <th></th>\n",
       "      <th>image_dir</th>\n",
       "      <th>label</th>\n",
       "      <th>source</th>\n",
       "      <th>tag</th>\n",
       "    </tr>\n",
       "  </thead>\n",
       "  <tbody>\n",
       "    <tr>\n",
       "      <th>count</th>\n",
       "      <td>83</td>\n",
       "      <td>83</td>\n",
       "      <td>83</td>\n",
       "      <td>83</td>\n",
       "    </tr>\n",
       "    <tr>\n",
       "      <th>unique</th>\n",
       "      <td>83</td>\n",
       "      <td>4</td>\n",
       "      <td>1</td>\n",
       "      <td>2</td>\n",
       "    </tr>\n",
       "    <tr>\n",
       "      <th>top</th>\n",
       "      <td>data/marco/gsk/other/1254.jpeg</td>\n",
       "      <td>other</td>\n",
       "      <td>gsk</td>\n",
       "      <td>test</td>\n",
       "    </tr>\n",
       "    <tr>\n",
       "      <th>freq</th>\n",
       "      <td>1</td>\n",
       "      <td>21</td>\n",
       "      <td>83</td>\n",
       "      <td>79</td>\n",
       "    </tr>\n",
       "  </tbody>\n",
       "</table>\n",
       "</div>"
      ],
      "text/plain": [
       "                             image_dir  label source   tag\n",
       "count                               83     83     83    83\n",
       "unique                              83      4      1     2\n",
       "top     data/marco/gsk/other/1254.jpeg  other    gsk  test\n",
       "freq                                 1     21     83    79"
      ]
     },
     "execution_count": 12,
     "metadata": {},
     "output_type": "execute_result"
    }
   ],
   "source": [
    "row1 = {\"image_dir\": \"data/marco/gsk/clear/220.jpeg\", \"label\": \"clear\", \"source\": \"gsk\", \"tag\": \"prompt\"}\n",
    "row2 = {\"image_dir\": \"data/marco/gsk/crystals/6488.jpeg\", \"label\": \"crystals\", \"source\": \"gsk\", \"tag\": \"prompt\"}\n",
    "row3 = {\"image_dir\": \"data/marco/gsk/other/9123.jpeg\", \"label\": \"other\", \"source\": \"gsk\", \"tag\": \"prompt\"}\n",
    "row4 = {\"image_dir\": \"data/marco/gsk/precipitate/200.jpeg\", \"label\": \"precipitate\", \"source\": \"gsk\", \"tag\": \"prompt\"}\n",
    "meta_df_append = pd.DataFrame([row1, row2, row3, row4])\n",
    "meta_df = pd.concat([meta_df, meta_df_append], ignore_index=True)\n",
    "print(len(meta_df))\n",
    "meta_df.describe()"
   ]
  },
  {
   "cell_type": "code",
   "execution_count": 13,
   "id": "2b54d0f0",
   "metadata": {},
   "outputs": [
    {
     "data": {
      "application/vnd.microsoft.datawrangler.viewer.v0+json": {
       "columns": [
        {
         "name": "index",
         "rawType": "int64",
         "type": "integer"
        },
        {
         "name": "image_dir",
         "rawType": "object",
         "type": "string"
        },
        {
         "name": "label",
         "rawType": "object",
         "type": "string"
        },
        {
         "name": "source",
         "rawType": "object",
         "type": "string"
        },
        {
         "name": "tag",
         "rawType": "object",
         "type": "string"
        }
       ],
       "conversionMethod": "pd.DataFrame",
       "ref": "15c23bab-2224-43d5-b610-683baf6c1e4a",
       "rows": [
        [
         "0",
         "data/marco/gsk/other/1254.jpeg",
         "other",
         "gsk",
         "test"
        ],
        [
         "1",
         "data/marco/gsk/other/1782.jpeg",
         "other",
         "gsk",
         "test"
        ],
        [
         "2",
         "data/marco/gsk/other/1848.jpeg",
         "other",
         "gsk",
         "test"
        ],
        [
         "3",
         "data/marco/gsk/other/1783.jpeg",
         "other",
         "gsk",
         "test"
        ],
        [
         "4",
         "data/marco/gsk/other/1209.jpeg",
         "other",
         "gsk",
         "test"
        ]
       ],
       "shape": {
        "columns": 4,
        "rows": 5
       }
      },
      "text/html": [
       "<div>\n",
       "<style scoped>\n",
       "    .dataframe tbody tr th:only-of-type {\n",
       "        vertical-align: middle;\n",
       "    }\n",
       "\n",
       "    .dataframe tbody tr th {\n",
       "        vertical-align: top;\n",
       "    }\n",
       "\n",
       "    .dataframe thead th {\n",
       "        text-align: right;\n",
       "    }\n",
       "</style>\n",
       "<table border=\"1\" class=\"dataframe\">\n",
       "  <thead>\n",
       "    <tr style=\"text-align: right;\">\n",
       "      <th></th>\n",
       "      <th>image_dir</th>\n",
       "      <th>label</th>\n",
       "      <th>source</th>\n",
       "      <th>tag</th>\n",
       "    </tr>\n",
       "  </thead>\n",
       "  <tbody>\n",
       "    <tr>\n",
       "      <th>0</th>\n",
       "      <td>data/marco/gsk/other/1254.jpeg</td>\n",
       "      <td>other</td>\n",
       "      <td>gsk</td>\n",
       "      <td>test</td>\n",
       "    </tr>\n",
       "    <tr>\n",
       "      <th>1</th>\n",
       "      <td>data/marco/gsk/other/1782.jpeg</td>\n",
       "      <td>other</td>\n",
       "      <td>gsk</td>\n",
       "      <td>test</td>\n",
       "    </tr>\n",
       "    <tr>\n",
       "      <th>2</th>\n",
       "      <td>data/marco/gsk/other/1848.jpeg</td>\n",
       "      <td>other</td>\n",
       "      <td>gsk</td>\n",
       "      <td>test</td>\n",
       "    </tr>\n",
       "    <tr>\n",
       "      <th>3</th>\n",
       "      <td>data/marco/gsk/other/1783.jpeg</td>\n",
       "      <td>other</td>\n",
       "      <td>gsk</td>\n",
       "      <td>test</td>\n",
       "    </tr>\n",
       "    <tr>\n",
       "      <th>4</th>\n",
       "      <td>data/marco/gsk/other/1209.jpeg</td>\n",
       "      <td>other</td>\n",
       "      <td>gsk</td>\n",
       "      <td>test</td>\n",
       "    </tr>\n",
       "  </tbody>\n",
       "</table>\n",
       "</div>"
      ],
      "text/plain": [
       "                        image_dir  label source   tag\n",
       "0  data/marco/gsk/other/1254.jpeg  other    gsk  test\n",
       "1  data/marco/gsk/other/1782.jpeg  other    gsk  test\n",
       "2  data/marco/gsk/other/1848.jpeg  other    gsk  test\n",
       "3  data/marco/gsk/other/1783.jpeg  other    gsk  test\n",
       "4  data/marco/gsk/other/1209.jpeg  other    gsk  test"
      ]
     },
     "execution_count": 13,
     "metadata": {},
     "output_type": "execute_result"
    }
   ],
   "source": [
    "meta_df.head()"
   ]
  },
  {
   "cell_type": "code",
   "execution_count": null,
   "id": "606a1bf1",
   "metadata": {},
   "outputs": [],
   "source": [
    "# meta_df.to_csv(\"data/marco/metadata/metadata_v0.csv\", index=False)"
   ]
  },
  {
   "cell_type": "markdown",
   "id": "84982ccf",
   "metadata": {},
   "source": [
    "### Prompt with structured output"
   ]
  },
  {
   "cell_type": "code",
   "execution_count": 15,
   "id": "3293a17f",
   "metadata": {},
   "outputs": [],
   "source": [
    "from mwm_vlm.utils.common import encode_image\n",
    "\n",
    "def get_prpmpt(image_path):\n",
    "\n",
    "    # Base64 encode each example image and your test image\n",
    "    base64_example1 = encode_image(\"data/marco/gsk/crystals/6488.jpeg\")\n",
    "    base64_example2 = encode_image(\"data/marco/gsk/clear/220.jpeg\")\n",
    "    base64_example3 = encode_image(\"data/marco/gsk/precipitate/200.jpeg\")\n",
    "    base64_example4 = encode_image(\"data/marco/gsk/other/9123.jpeg\")\n",
    "    base64_test = encode_image(image_path)\n",
    "\n",
    "    # Prepare the common part of the prompt\n",
    "    instructions = (\n",
    "        \"You are helping with tagging Protein Crystallization images. \"\n",
    "        \"You will be given an image and a list of labels with definitions. \"\n",
    "        \"Choose the most appropriate single label from the list according to the definition. \"\n",
    "        \"Add a short explanation of your choice at the end in free text.\\n\\n\"\n",
    "        \"**List:**\\n\"\n",
    "        \"[clear, crystals, precipitate, other]\\n\\n\"\n",
    "        \"**Definitions:**\\n\"\n",
    "        \"clear: Transparent solution without any particulate matter observed within a droplet or in the field of view.\\n\"\n",
    "        \"crystals: Crystals observed within a droplet or in the field of view.\\n\"\n",
    "        \"precipitate: Precipitate observed within a droplet or in the field of view.\\n\"\n",
    "        \"other: Unexpected observations which are not clear solution, crystals, or precipitate.\\n\\n\"\n",
    "        \"Below are some examples:\\n\"\n",
    "    )\n",
    "\n",
    "    # Build the list of input items\n",
    "    input_items = [\n",
    "        {\"type\": \"input_text\", \"text\": instructions},\n",
    "\n",
    "        # Example 1\n",
    "        {\"type\": \"input_text\", \"text\": \"**Example 1:**\"},\n",
    "        {\"type\": \"input_image\", \"image_url\": f\"data:image/jpeg;base64,{base64_example1}\"},\n",
    "        {\"type\": \"input_text\", \"text\": \"Label: crystals\\nExplanation: Distinct crystal structures can be seen forming in the droplet.\"},\n",
    "\n",
    "        # Example 2\n",
    "        {\"type\": \"input_text\", \"text\": \"**Example 2:**\"},\n",
    "        {\"type\": \"input_image\", \"image_url\": f\"data:image/jpeg;base64,{base64_example2}\"},\n",
    "        {\"type\": \"input_text\", \"text\": \"Label: clear\\nExplanation: The droplet is transparent and shows no visible particles or structures.\"},\n",
    "\n",
    "        # Example 3\n",
    "        {\"type\": \"input_text\", \"text\": \"**Example 3:**\"},\n",
    "        {\"type\": \"input_image\", \"image_url\": f\"data:image/jpeg;base64,{base64_example3}\"},\n",
    "        {\"type\": \"input_text\", \"text\": \"Label: precipitate\\nExplanation: Granular particles are scattered across the droplet indicating precipitation.\"},\n",
    "\n",
    "        # Example 4\n",
    "        {\"type\": \"input_text\", \"text\": \"**Example 4:**\"},\n",
    "        {\"type\": \"input_image\", \"image_url\": f\"data:image/jpeg;base64,{base64_example4}\"},\n",
    "        {\"type\": \"input_text\", \"text\": \"Label: other\\nExplanation: The image shows unexpected structures which are not clear solution, crystals, or precipitate.\"},\n",
    "\n",
    "        # Now the actual test image\n",
    "        {\"type\": \"input_text\", \"text\": \"**Now classify the following image:**\"},\n",
    "        {\"type\": \"input_image\", \"image_url\": f\"data:image/jpeg;base64,{base64_test}\"},\n",
    "    ]\n",
    "\n",
    "    return input_items"
   ]
  },
  {
   "cell_type": "code",
   "execution_count": null,
   "id": "bb638372",
   "metadata": {},
   "outputs": [
    {
     "name": "stdout",
     "output_type": "stream",
     "text": [
      "{\n",
      "  \"label\": \"crystals\",\n",
      "  \"explanation\": \"There are several thin, needle-like structures visible in the droplet, which are characteristic of crystal formation.\"\n",
      "}\n"
     ]
    }
   ],
   "source": [
    "import json\n",
    "from openai import OpenAI\n",
    "\n",
    "OPENAI_API_KEY = \"\"\n",
    "CLIENT = OpenAI(api_key=OPENAI_API_KEY)\n",
    "OUTPUT_SCHEMA = json.load(open(\"src/mwm_vlm/components/output_schema.json\"))\n",
    "test_image_dir = \"data/marco/gsk/crystals/10.jpeg\"\n",
    "\n",
    "\n",
    "# Prepare the prompt\n",
    "prompts = get_prpmpt(test_image_dir)\n",
    "\n",
    "# Call the model\n",
    "response = CLIENT.responses.create(\n",
    "    model=\"gpt-4.1\",\n",
    "    input=[\n",
    "        {\n",
    "            \"role\": \"user\",\n",
    "            \"content\": prompts,\n",
    "        }\n",
    "    ],\n",
    "    text=OUTPUT_SCHEMA,\n",
    "    temperature=0.2,\n",
    ")\n",
    "\n",
    "print(response.output_text)"
   ]
  },
  {
   "cell_type": "markdown",
   "id": "5e36714c",
   "metadata": {},
   "source": [
    "### Batch prediction"
   ]
  },
  {
   "cell_type": "code",
   "execution_count": 33,
   "id": "b25b8564",
   "metadata": {},
   "outputs": [
    {
     "name": "stdout",
     "output_type": "stream",
     "text": [
      "79\n",
      "['data/marco/gsk/other/1254.jpeg', 'data/marco/gsk/other/1782.jpeg', 'data/marco/gsk/other/1848.jpeg', 'data/marco/gsk/other/1783.jpeg', 'data/marco/gsk/other/1209.jpeg']\n"
     ]
    }
   ],
   "source": [
    "def pack_request_line(test_image_dir, model=\"gpt-4.1\"):\n",
    "    return {\n",
    "        \"custom_id\": test_image_dir,\n",
    "        \"method\": \"POST\",\n",
    "        \"url\": \"/v1/responses\",\n",
    "        \"body\": {\n",
    "            \"model\": model,\n",
    "            \"input\": [\n",
    "                {\"role\": \"user\", \"content\": get_prpmpt(test_image_dir)}\n",
    "            ],\n",
    "            \"text\": OUTPUT_SCHEMA,\n",
    "            \"temperature\": 0,\n",
    "        }\n",
    "    }\n",
    "\n",
    "# Create batch request file: 4 test images\n",
    "batch_df = meta_df[meta_df[\"tag\"] == \"test\"]\n",
    "batch_images = batch_df.image_dir.tolist()\n",
    "print(len(batch_images))\n",
    "print(batch_images[:5])\n",
    "\n",
    "BATCH_FILE = \"research/batch_request.jsonl\"\n",
    "with open(BATCH_FILE, \"w\") as f:\n",
    "    for image_dir in batch_images:\n",
    "        line = pack_request_line(image_dir)\n",
    "        f.write(json.dumps(line) + \"\\n\")"
   ]
  },
  {
   "cell_type": "code",
   "execution_count": null,
   "id": "99f67b82",
   "metadata": {},
   "outputs": [
    {
     "name": "stdout",
     "output_type": "stream",
     "text": [
      "FileObject(id='file-XUGmdPfXA2ebV6iomsGYTk', bytes=52352917, created_at=1745246718, filename='batch_request.jsonl', object='file', purpose='batch', status='processed', expires_at=None, status_details=None)\n"
     ]
    }
   ],
   "source": [
    "# Upload files for Batch API\n",
    "# 80 images ~ 52MB jsonl: took 9 min to upload (home wifi)\n",
    "\n",
    "batch_input_file = CLIENT.files.create(\n",
    "    file=open(BATCH_FILE, \"rb\"),\n",
    "    purpose=\"batch\"\n",
    ")\n",
    "\n",
    "print(batch_input_file)"
   ]
  },
  {
   "cell_type": "code",
   "execution_count": null,
   "id": "f0089449",
   "metadata": {},
   "outputs": [],
   "source": [
    "# Create the Batch\n",
    "\n",
    "batch_input_file_id = batch_input_file.id\n",
    "batch = CLIENT.batches.create(\n",
    "    input_file_id=batch_input_file_id,\n",
    "    endpoint=\"/v1/responses\",\n",
    "    completion_window=\"24h\",\n",
    "    metadata={\n",
    "        \"description\": \"test job\"\n",
    "    }\n",
    ")\n",
    "print(batch)"
   ]
  },
  {
   "cell_type": "code",
   "execution_count": 37,
   "id": "294d46c6",
   "metadata": {},
   "outputs": [
    {
     "name": "stdout",
     "output_type": "stream",
     "text": [
      "Batch(id='batch_68065a60d9b88190bb7934db9e747bce', completion_window='24h', created_at=1745246816, endpoint='/v1/responses', input_file_id='file-XUGmdPfXA2ebV6iomsGYTk', object='batch', status='completed', cancelled_at=None, cancelling_at=None, completed_at=1745247065, error_file_id=None, errors=None, expired_at=None, expires_at=1745333216, failed_at=None, finalizing_at=1745247058, in_progress_at=1745246820, metadata={'description': 'test job'}, output_file_id='file-GRVUzjtHvcyKWU8tZbw1Tx', request_counts=BatchRequestCounts(completed=79, failed=0, total=79))\n"
     ]
    }
   ],
   "source": [
    "# Check the status of a batch\n",
    "batch_id = batch.id\n",
    "\n",
    "batch = CLIENT.batches.retrieve(batch_id)\n",
    "print(batch)"
   ]
  },
  {
   "cell_type": "code",
   "execution_count": 41,
   "id": "c43b2524",
   "metadata": {},
   "outputs": [],
   "source": [
    "# Retrieving the batch results and save\n",
    "\n",
    "file_response = CLIENT.files.content(batch.output_file_id)\n",
    "\n",
    "with open(\"research/batch_response.jsonl\", \"wb\") as f:\n",
    "    f.write(file_response.content)\n",
    "\n",
    "# print(file_response.text)"
   ]
  },
  {
   "cell_type": "markdown",
   "id": "14bdf492",
   "metadata": {},
   "source": [
    "### Confusion Matrix & Analysis"
   ]
  },
  {
   "cell_type": "code",
   "execution_count": 45,
   "id": "2e53b863",
   "metadata": {},
   "outputs": [],
   "source": [
    "def parse_batch_results(file_path):\n",
    "    \"\"\"\n",
    "    Parses a line-delimited JSON file from OpenAI batch API response.\n",
    "\n",
    "    Args:\n",
    "        file_path (str): Path to the batch result file.\n",
    "\n",
    "    Returns:\n",
    "        List[dict]: A list of parsed responses with custom_id and completion content.\n",
    "    \"\"\"\n",
    "    results = []\n",
    "    with open(file_path, 'r') as f:\n",
    "        for line in f:\n",
    "            try:\n",
    "                data = json.loads(line)\n",
    "                text_str = data[\"response\"][\"body\"][\"output\"][0][\"content\"][0][\"text\"]\n",
    "                text_json = json.loads(text_str)  # Parse stringified JSON\n",
    "                entry = {\n",
    "                    \"custom_id\": data[\"custom_id\"],\n",
    "                    \"label\": text_json.get(\"label\"),\n",
    "                    \"explanation\": text_json.get(\"explanation\")\n",
    "                }\n",
    "            except Exception as e:\n",
    "                entry = {}\n",
    "\n",
    "            results.append(entry)\n",
    "            \n",
    "    return results\n"
   ]
  },
  {
   "cell_type": "code",
   "execution_count": 46,
   "id": "5e3d6847",
   "metadata": {},
   "outputs": [
    {
     "name": "stdout",
     "output_type": "stream",
     "text": [
      "79\n"
     ]
    },
    {
     "data": {
      "application/vnd.microsoft.datawrangler.viewer.v0+json": {
       "columns": [
        {
         "name": "index",
         "rawType": "int64",
         "type": "integer"
        },
        {
         "name": "custom_id",
         "rawType": "object",
         "type": "string"
        },
        {
         "name": "label",
         "rawType": "object",
         "type": "string"
        },
        {
         "name": "explanation",
         "rawType": "object",
         "type": "string"
        }
       ],
       "conversionMethod": "pd.DataFrame",
       "ref": "b1d3e826-9472-49da-b39a-849f218896b2",
       "rows": [
        [
         "0",
         "data/marco/gsk/other/1254.jpeg",
         "other",
         "The image shows an unusual structure that does not fit the typical appearance of clear solution, crystals, or precipitate. The dark, irregular shapes suggest an unexpected observation."
        ],
        [
         "1",
         "data/marco/gsk/other/1782.jpeg",
         "other",
         "The image shows an unusual, dense structure that does not resemble typical crystals or precipitate, nor is it a clear solution. The morphology is irregular and unexpected, fitting the 'other' category."
        ],
        [
         "2",
         "data/marco/gsk/other/1848.jpeg",
         "precipitate",
         "The image shows a granular texture scattered throughout the droplet, which is characteristic of precipitate formation rather than clear solution or distinct crystals."
        ],
        [
         "3",
         "data/marco/gsk/other/1783.jpeg",
         "precipitate",
         "There are numerous small, granular particles scattered throughout the droplet, which is characteristic of precipitate formation."
        ],
        [
         "4",
         "data/marco/gsk/other/1209.jpeg",
         "other",
         "The image shows an unusual structure within the droplet that does not fit the typical appearance of clear solution, crystals, or precipitate. The formation is irregular and unexpected, matching the definition of 'other'."
        ]
       ],
       "shape": {
        "columns": 3,
        "rows": 5
       }
      },
      "text/html": [
       "<div>\n",
       "<style scoped>\n",
       "    .dataframe tbody tr th:only-of-type {\n",
       "        vertical-align: middle;\n",
       "    }\n",
       "\n",
       "    .dataframe tbody tr th {\n",
       "        vertical-align: top;\n",
       "    }\n",
       "\n",
       "    .dataframe thead th {\n",
       "        text-align: right;\n",
       "    }\n",
       "</style>\n",
       "<table border=\"1\" class=\"dataframe\">\n",
       "  <thead>\n",
       "    <tr style=\"text-align: right;\">\n",
       "      <th></th>\n",
       "      <th>custom_id</th>\n",
       "      <th>label</th>\n",
       "      <th>explanation</th>\n",
       "    </tr>\n",
       "  </thead>\n",
       "  <tbody>\n",
       "    <tr>\n",
       "      <th>0</th>\n",
       "      <td>data/marco/gsk/other/1254.jpeg</td>\n",
       "      <td>other</td>\n",
       "      <td>The image shows an unusual structure that does...</td>\n",
       "    </tr>\n",
       "    <tr>\n",
       "      <th>1</th>\n",
       "      <td>data/marco/gsk/other/1782.jpeg</td>\n",
       "      <td>other</td>\n",
       "      <td>The image shows an unusual, dense structure th...</td>\n",
       "    </tr>\n",
       "    <tr>\n",
       "      <th>2</th>\n",
       "      <td>data/marco/gsk/other/1848.jpeg</td>\n",
       "      <td>precipitate</td>\n",
       "      <td>The image shows a granular texture scattered t...</td>\n",
       "    </tr>\n",
       "    <tr>\n",
       "      <th>3</th>\n",
       "      <td>data/marco/gsk/other/1783.jpeg</td>\n",
       "      <td>precipitate</td>\n",
       "      <td>There are numerous small, granular particles s...</td>\n",
       "    </tr>\n",
       "    <tr>\n",
       "      <th>4</th>\n",
       "      <td>data/marco/gsk/other/1209.jpeg</td>\n",
       "      <td>other</td>\n",
       "      <td>The image shows an unusual structure within th...</td>\n",
       "    </tr>\n",
       "  </tbody>\n",
       "</table>\n",
       "</div>"
      ],
      "text/plain": [
       "                        custom_id        label  \\\n",
       "0  data/marco/gsk/other/1254.jpeg        other   \n",
       "1  data/marco/gsk/other/1782.jpeg        other   \n",
       "2  data/marco/gsk/other/1848.jpeg  precipitate   \n",
       "3  data/marco/gsk/other/1783.jpeg  precipitate   \n",
       "4  data/marco/gsk/other/1209.jpeg        other   \n",
       "\n",
       "                                         explanation  \n",
       "0  The image shows an unusual structure that does...  \n",
       "1  The image shows an unusual, dense structure th...  \n",
       "2  The image shows a granular texture scattered t...  \n",
       "3  There are numerous small, granular particles s...  \n",
       "4  The image shows an unusual structure within th...  "
      ]
     },
     "execution_count": 46,
     "metadata": {},
     "output_type": "execute_result"
    }
   ],
   "source": [
    "results = parse_batch_results(\"research/batch_response.jsonl\")\n",
    "results_df = pd.DataFrame(results)\n",
    "print(len(results_df))\n",
    "results_df.head()"
   ]
  },
  {
   "cell_type": "code",
   "execution_count": 50,
   "id": "87c68f85",
   "metadata": {},
   "outputs": [
    {
     "name": "stdout",
     "output_type": "stream",
     "text": [
      "79\n"
     ]
    },
    {
     "data": {
      "application/vnd.microsoft.datawrangler.viewer.v0+json": {
       "columns": [
        {
         "name": "index",
         "rawType": "int64",
         "type": "integer"
        },
        {
         "name": "image_dir",
         "rawType": "object",
         "type": "string"
        },
        {
         "name": "label_gt",
         "rawType": "object",
         "type": "string"
        },
        {
         "name": "source",
         "rawType": "object",
         "type": "string"
        },
        {
         "name": "tag",
         "rawType": "object",
         "type": "string"
        },
        {
         "name": "label_pred",
         "rawType": "object",
         "type": "string"
        },
        {
         "name": "explanation",
         "rawType": "object",
         "type": "string"
        }
       ],
       "conversionMethod": "pd.DataFrame",
       "ref": "f6e3f253-b1ff-4bf8-9643-a89db43e178b",
       "rows": [
        [
         "0",
         "data/marco/gsk/other/1254.jpeg",
         "other",
         "gsk",
         "test",
         "other",
         "The image shows an unusual structure that does not fit the typical appearance of clear solution, crystals, or precipitate. The dark, irregular shapes suggest an unexpected observation."
        ],
        [
         "1",
         "data/marco/gsk/other/1782.jpeg",
         "other",
         "gsk",
         "test",
         "other",
         "The image shows an unusual, dense structure that does not resemble typical crystals or precipitate, nor is it a clear solution. The morphology is irregular and unexpected, fitting the 'other' category."
        ],
        [
         "2",
         "data/marco/gsk/other/1848.jpeg",
         "other",
         "gsk",
         "test",
         "precipitate",
         "The image shows a granular texture scattered throughout the droplet, which is characteristic of precipitate formation rather than clear solution or distinct crystals."
        ],
        [
         "3",
         "data/marco/gsk/other/1783.jpeg",
         "other",
         "gsk",
         "test",
         "precipitate",
         "There are numerous small, granular particles scattered throughout the droplet, which is characteristic of precipitate formation."
        ],
        [
         "4",
         "data/marco/gsk/other/1209.jpeg",
         "other",
         "gsk",
         "test",
         "other",
         "The image shows an unusual structure within the droplet that does not fit the typical appearance of clear solution, crystals, or precipitate. The formation is irregular and unexpected, matching the definition of 'other'."
        ]
       ],
       "shape": {
        "columns": 6,
        "rows": 5
       }
      },
      "text/html": [
       "<div>\n",
       "<style scoped>\n",
       "    .dataframe tbody tr th:only-of-type {\n",
       "        vertical-align: middle;\n",
       "    }\n",
       "\n",
       "    .dataframe tbody tr th {\n",
       "        vertical-align: top;\n",
       "    }\n",
       "\n",
       "    .dataframe thead th {\n",
       "        text-align: right;\n",
       "    }\n",
       "</style>\n",
       "<table border=\"1\" class=\"dataframe\">\n",
       "  <thead>\n",
       "    <tr style=\"text-align: right;\">\n",
       "      <th></th>\n",
       "      <th>image_dir</th>\n",
       "      <th>label_gt</th>\n",
       "      <th>source</th>\n",
       "      <th>tag</th>\n",
       "      <th>label_pred</th>\n",
       "      <th>explanation</th>\n",
       "    </tr>\n",
       "  </thead>\n",
       "  <tbody>\n",
       "    <tr>\n",
       "      <th>0</th>\n",
       "      <td>data/marco/gsk/other/1254.jpeg</td>\n",
       "      <td>other</td>\n",
       "      <td>gsk</td>\n",
       "      <td>test</td>\n",
       "      <td>other</td>\n",
       "      <td>The image shows an unusual structure that does...</td>\n",
       "    </tr>\n",
       "    <tr>\n",
       "      <th>1</th>\n",
       "      <td>data/marco/gsk/other/1782.jpeg</td>\n",
       "      <td>other</td>\n",
       "      <td>gsk</td>\n",
       "      <td>test</td>\n",
       "      <td>other</td>\n",
       "      <td>The image shows an unusual, dense structure th...</td>\n",
       "    </tr>\n",
       "    <tr>\n",
       "      <th>2</th>\n",
       "      <td>data/marco/gsk/other/1848.jpeg</td>\n",
       "      <td>other</td>\n",
       "      <td>gsk</td>\n",
       "      <td>test</td>\n",
       "      <td>precipitate</td>\n",
       "      <td>The image shows a granular texture scattered t...</td>\n",
       "    </tr>\n",
       "    <tr>\n",
       "      <th>3</th>\n",
       "      <td>data/marco/gsk/other/1783.jpeg</td>\n",
       "      <td>other</td>\n",
       "      <td>gsk</td>\n",
       "      <td>test</td>\n",
       "      <td>precipitate</td>\n",
       "      <td>There are numerous small, granular particles s...</td>\n",
       "    </tr>\n",
       "    <tr>\n",
       "      <th>4</th>\n",
       "      <td>data/marco/gsk/other/1209.jpeg</td>\n",
       "      <td>other</td>\n",
       "      <td>gsk</td>\n",
       "      <td>test</td>\n",
       "      <td>other</td>\n",
       "      <td>The image shows an unusual structure within th...</td>\n",
       "    </tr>\n",
       "  </tbody>\n",
       "</table>\n",
       "</div>"
      ],
      "text/plain": [
       "                        image_dir label_gt source   tag   label_pred  \\\n",
       "0  data/marco/gsk/other/1254.jpeg    other    gsk  test        other   \n",
       "1  data/marco/gsk/other/1782.jpeg    other    gsk  test        other   \n",
       "2  data/marco/gsk/other/1848.jpeg    other    gsk  test  precipitate   \n",
       "3  data/marco/gsk/other/1783.jpeg    other    gsk  test  precipitate   \n",
       "4  data/marco/gsk/other/1209.jpeg    other    gsk  test        other   \n",
       "\n",
       "                                         explanation  \n",
       "0  The image shows an unusual structure that does...  \n",
       "1  The image shows an unusual, dense structure th...  \n",
       "2  The image shows a granular texture scattered t...  \n",
       "3  There are numerous small, granular particles s...  \n",
       "4  The image shows an unusual structure within th...  "
      ]
     },
     "execution_count": 50,
     "metadata": {},
     "output_type": "execute_result"
    }
   ],
   "source": [
    "df_merge = meta_df.merge(results_df, how=\"left\", left_on=\"image_dir\", right_on=\"custom_id\", suffixes=(\"_gt\", \"_pred\"))\n",
    "df_merge = df_merge.drop(columns=[\"custom_id\"])\n",
    "df_merge = df_merge[df_merge[\"tag\"] == \"test\"]\n",
    "print(len(df_merge))\n",
    "df_merge.head()"
   ]
  },
  {
   "cell_type": "code",
   "execution_count": 51,
   "id": "7bdeb134",
   "metadata": {},
   "outputs": [
    {
     "data": {
      "image/png": "[encoded data removed]",
      "text/plain": [
       "<Figure size 600x500 with 2 Axes>"
      ]
     },
     "metadata": {},
     "output_type": "display_data"
    }
   ],
   "source": [
    "from sklearn.metrics import confusion_matrix\n",
    "import seaborn as sns\n",
    "import matplotlib.pyplot as plt\n",
    "\n",
    "# Extract labels\n",
    "y_true = df_merge['label_gt']\n",
    "y_pred = df_merge['label_pred']\n",
    "\n",
    "# Get unique sorted labels\n",
    "labels = sorted(list(set(y_true) | set(y_pred)))\n",
    "\n",
    "# Compute confusion matrix\n",
    "cm = confusion_matrix(y_true, y_pred, labels=labels)\n",
    "\n",
    "# Plot\n",
    "plt.figure(figsize=(6, 5))\n",
    "sns.heatmap(cm, annot=True, fmt='d', xticklabels=labels, yticklabels=labels, cmap='Blues')\n",
    "plt.xlabel('Predicted')\n",
    "plt.ylabel('True')\n",
    "plt.title('Confusion Matrix')\n",
    "plt.tight_layout()\n",
    "plt.show()\n"
   ]
  },
  {
   "cell_type": "code",
   "execution_count": 52,
   "id": "9b1b614d",
   "metadata": {},
   "outputs": [
    {
     "name": "stdout",
     "output_type": "stream",
     "text": [
      "Accuracy: 0.75\n",
      "Precision (macro): 0.80\n",
      "Recall (macro): 0.75\n",
      "F1-score (macro): 0.75\n",
      "\n",
      "Classification Report:\n",
      "              precision    recall  f1-score   support\n",
      "\n",
      "       clear       0.79      0.95      0.86        20\n",
      "    crystals       0.93      0.68      0.79        19\n",
      "       other       0.92      0.55      0.69        20\n",
      " precipitate       0.55      0.80      0.65        20\n",
      "\n",
      "    accuracy                           0.75        79\n",
      "   macro avg       0.80      0.75      0.75        79\n",
      "weighted avg       0.80      0.75      0.75        79\n",
      "\n"
     ]
    }
   ],
   "source": [
    "from sklearn.metrics import classification_report, accuracy_score, precision_score, recall_score, f1_score\n",
    "\n",
    "# 🧮 Accuracy\n",
    "acc = accuracy_score(y_true, y_pred)\n",
    "print(f\"Accuracy: {acc:.2f}\")\n",
    "\n",
    "# 🧮 Precision, Recall, F1 (macro average)\n",
    "precision = precision_score(y_true, y_pred, average='macro')\n",
    "recall = recall_score(y_true, y_pred, average='macro')\n",
    "f1 = f1_score(y_true, y_pred, average='macro')\n",
    "print(f\"Precision (macro): {precision:.2f}\")\n",
    "print(f\"Recall (macro): {recall:.2f}\")\n",
    "print(f\"F1-score (macro): {f1:.2f}\")\n",
    "\n",
    "# 📄 Classification Report (per class)\n",
    "print(\"\\nClassification Report:\")\n",
    "print(classification_report(y_true, y_pred, labels=labels))\n"
   ]
  }
 ],
 "metadata": {
  "kernelspec": {
   "display_name": "venv",
   "language": "python",
   "name": "python3"
  },
  "language_info": {
   "codemirror_mode": {
    "name": "ipython",
    "version": 3
   },
   "file_extension": ".py",
   "mimetype": "text/x-python",
   "name": "python",
   "nbconvert_exporter": "python",
   "pygments_lexer": "ipython3",
   "version": "3.10.16"
  }
 },
 "nbformat": 4,
 "nbformat_minor": 5
}
